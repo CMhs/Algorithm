{
 "cells": [
  {
   "cell_type": "markdown",
   "metadata": {},
   "source": [
    "### 삽입 정렬\n",
    "\n",
    "삽입 정렬이란\n",
    "1. Data의 2번째 index부터 시작하여 해당 index 앞에 있는 value와 비교하여 index의 값이 더 작으면\n",
    "\n",
    "2. index 값과 index 앞의 value를 swap하고\n",
    "\n",
    "3. 이를 index값이 더 큰 value를 만날때 까지 반복하여 정렬하는 알고리즘\n"
   ]
  },
  {
   "cell_type": "markdown",
   "metadata": {},
   "source": [
    "#### 삽입정렬의 알고리즘 실행 단계\n",
    "\n",
    "1. for stand in range(len(data) - 1)로 반복문 수행\n",
    "2. for index in range(stand + 1, 0, -1)로 반복문 수행\n",
    "3. data[stand+1] 부터 -1 씩 감소시켜가며 검사\n",
    "4. 내부 반복문에서 data[index] > data[index-1] 이라면 두 값을 swap\n",
    "5. 위 조건이 맞지 않는 경우, index 앞의 데이터들은 검사할 필요 없으므로 반복문 break\n",
    "6. 위의 검사를 반복한다."
   ]
  },
  {
   "cell_type": "code",
   "execution_count": 5,
   "metadata": {},
   "outputs": [],
   "source": [
    "def insertion_sort(data):\n",
    "    for stand in range(len(data)-1):\n",
    "        for index in range(stand +1, 0, -1):\n",
    "            if data[index] < data[index - 1]:\n",
    "                data[index], data[index -1] = data[index-1], data[index]\n",
    "            else:\n",
    "                break\n",
    "    return data"
   ]
  },
  {
   "cell_type": "code",
   "execution_count": 6,
   "metadata": {},
   "outputs": [
    {
     "name": "stdout",
     "output_type": "stream",
     "text": [
      "[1, 2, 3, 6, 9, 10, 12, 13, 16, 18, 21, 22, 25, 26, 27, 29, 30, 32, 34, 35, 36, 38, 39, 40, 41, 43, 45, 46, 47, 49, 52, 54, 60, 62, 63, 66, 67, 72, 73, 74, 77, 80, 82, 85, 86, 89, 91, 94, 95, 96]\n"
     ]
    }
   ],
   "source": [
    "import random\n",
    "\n",
    "data_list = random.sample(range(100), 50)\n",
    "print(insertion_sort(data_list))\n",
    "#print(data_list)"
   ]
  },
  {
   "cell_type": "markdown",
   "metadata": {},
   "source": [
    "### 선택정렬 알고리즘의 시간복잡도 분석\n",
    "\n",
    "- 이중 for문을 통해 정렬되므로 O(n^2)\n",
    "- 완전 정렬이 되어 있는 경우, 내부 for문은 동작하지 않으므로 O(n)"
   ]
  }
 ],
 "metadata": {
  "kernelspec": {
   "display_name": "Python 3",
   "language": "python",
   "name": "python3"
  },
  "language_info": {
   "codemirror_mode": {
    "name": "ipython",
    "version": 3
   },
   "file_extension": ".py",
   "mimetype": "text/x-python",
   "name": "python",
   "nbconvert_exporter": "python",
   "pygments_lexer": "ipython3",
   "version": "3.7.4"
  }
 },
 "nbformat": 4,
 "nbformat_minor": 2
}
