{
 "cells": [
  {
   "cell_type": "markdown",
   "metadata": {},
   "source": [
    "### 1. 버블 정렬"
   ]
  },
  {
   "cell_type": "code",
   "execution_count": 1,
   "metadata": {},
   "outputs": [],
   "source": [
    "def bubble_sort(data):\n",
    "    for index in range(len(data) -1):\n",
    "        swap = False\n",
    "        for index2 in range(len(data) - index - 1):\n",
    "            if data[index2] > data[index2 +1]:\n",
    "                data[index2], data[index2 +1] = data[index2 + 1], data[index2]\n",
    "                swap = True\n",
    "        if swap == False:\n",
    "            break\n",
    "    return data"
   ]
  },
  {
   "cell_type": "code",
   "execution_count": 11,
   "metadata": {
    "scrolled": false
   },
   "outputs": [
    {
     "data": {
      "text/plain": [
       "[10, 23, 31, 46, 54, 59, 75, 81, 82, 99]"
      ]
     },
     "execution_count": 11,
     "metadata": {},
     "output_type": "execute_result"
    }
   ],
   "source": [
    "import random\n",
    "data = random.sample(range(100), 10)\n",
    "bubble_sort(data)"
   ]
  },
  {
   "cell_type": "markdown",
   "metadata": {},
   "source": [
    "### 2. 삽입 정렬"
   ]
  },
  {
   "cell_type": "code",
   "execution_count": 12,
   "metadata": {},
   "outputs": [],
   "source": [
    "def insertion_sort(data):\n",
    "    for stand in range(len(data) - 1):\n",
    "        for index in range(stand + 1, 0, -1):\n",
    "            if data[index] < data[index - 1]:\n",
    "                data[index], data[index -1] = data[index - 1], data[index]\n",
    "            else:\n",
    "                break\n",
    "    return data"
   ]
  },
  {
   "cell_type": "code",
   "execution_count": 13,
   "metadata": {},
   "outputs": [
    {
     "data": {
      "text/plain": [
       "[5, 20, 27, 47, 48, 60, 69, 87, 89, 91]"
      ]
     },
     "execution_count": 13,
     "metadata": {},
     "output_type": "execute_result"
    }
   ],
   "source": [
    "import random\n",
    "data = random.sample(range(100), 10)\n",
    "insertion_sort(data)"
   ]
  },
  {
   "cell_type": "markdown",
   "metadata": {},
   "source": [
    "### 3. 선택 정렬"
   ]
  },
  {
   "cell_type": "code",
   "execution_count": 20,
   "metadata": {},
   "outputs": [],
   "source": [
    "def selection_sort(data):\n",
    "    for stand in range(len(data) -1):\n",
    "        lowest = stand\n",
    "        print(data)\n",
    "        for index in range(stand + 1, len(data)):\n",
    "            if data[lowest] > data[index]:\n",
    "                lowest = index\n",
    "        data[stand], data[lowest] = data[lowest], data[stand]\n",
    "    return data"
   ]
  },
  {
   "cell_type": "code",
   "execution_count": 21,
   "metadata": {
    "scrolled": false
   },
   "outputs": [
    {
     "name": "stdout",
     "output_type": "stream",
     "text": [
      "[13, 51, 22, 61, 65, 58, 31, 66, 32, 56]\n",
      "[13, 51, 22, 61, 65, 58, 31, 66, 32, 56]\n",
      "[13, 22, 51, 61, 65, 58, 31, 66, 32, 56]\n",
      "[13, 22, 31, 61, 65, 58, 51, 66, 32, 56]\n",
      "[13, 22, 31, 32, 65, 58, 51, 66, 61, 56]\n",
      "[13, 22, 31, 32, 51, 58, 65, 66, 61, 56]\n",
      "[13, 22, 31, 32, 51, 56, 65, 66, 61, 58]\n",
      "[13, 22, 31, 32, 51, 56, 58, 66, 61, 65]\n",
      "[13, 22, 31, 32, 51, 56, 58, 61, 66, 65]\n"
     ]
    },
    {
     "data": {
      "text/plain": [
       "[13, 22, 31, 32, 51, 56, 58, 61, 65, 66]"
      ]
     },
     "execution_count": 21,
     "metadata": {},
     "output_type": "execute_result"
    }
   ],
   "source": [
    "import random\n",
    "data = random.sample(range(100), 10)\n",
    "selection_sort(data)"
   ]
  },
  {
   "cell_type": "markdown",
   "metadata": {},
   "source": [
    "### 4. 재귀 함수"
   ]
  },
  {
   "cell_type": "code",
   "execution_count": 29,
   "metadata": {},
   "outputs": [],
   "source": [
    "def factorial1(num):\n",
    "    if num <= 1:\n",
    "        return num\n",
    "    return factorial(num - 1) * num"
   ]
  },
  {
   "cell_type": "code",
   "execution_count": 26,
   "metadata": {},
   "outputs": [],
   "source": [
    "def factorial2(num):\n",
    "    if num > 1:\n",
    "        return factorial(num - 1) * num\n",
    "    else:\n",
    "        return num"
   ]
  },
  {
   "cell_type": "code",
   "execution_count": 30,
   "metadata": {
    "scrolled": true
   },
   "outputs": [
    {
     "data": {
      "text/plain": [
       "24"
      ]
     },
     "execution_count": 30,
     "metadata": {},
     "output_type": "execute_result"
    }
   ],
   "source": [
    "factorial1(4)"
   ]
  },
  {
   "cell_type": "markdown",
   "metadata": {},
   "source": [
    "### 5. 동적 계획법\n",
    "> 입력 크기가 작은 문제를 먼저 해결한 후, 그 해답을 활용하여 더 큰 부분의 문제를 해결하는 방식으로 문제를 해결하는 알고리즘. \n",
    "- 상향식 접근법\n",
    "- Memoization 기법 활용 : 이전에 계산한 값을 저장하여 다시 계산하지 않도록 함으로써 전체적인 실행속도를 개선하는 기법\n",
    "- 문제를 잘개 쪼갤 때, 쪼개진 문제는 중복 되어 재활용 됨"
   ]
  },
  {
   "cell_type": "code",
   "execution_count": 32,
   "metadata": {},
   "outputs": [
    {
     "data": {
      "text/plain": [
       "55"
      ]
     },
     "execution_count": 32,
     "metadata": {},
     "output_type": "execute_result"
    }
   ],
   "source": [
    "def fibo_dp(num):\n",
    "    cache = [0 for index in range(num+1)]\n",
    "    cache[0] = 0\n",
    "    cache[1] = 1\n",
    "    \n",
    "    for index in range(2, num + 1):\n",
    "        cache[index] = cache[index - 2] + cache[index - 1]\n",
    "    return cache[num]\n",
    "\n",
    "fibo_dp(10)"
   ]
  },
  {
   "cell_type": "markdown",
   "metadata": {},
   "source": [
    "### 6. 병합 정렬(Merge sort)\n",
    "\n",
    "> 재귀용법을 적용한 정렬 알고리즘\n",
    "- 리스트를 절반으로 잘라 두 부분으로 나눈다.\n",
    "- 더이상 나눠지지 않을 때 까지 리스트를 나눈 뒤\n",
    "- 각 부분의 리스트를 재귀 용법을 통해 합병하며 정렬한다.\n",
    "- 정렬 된 두 리스트를 다시 하나의 정렬된 리스트로 만드는 과정을 반복하며\n",
    "- 정렬된 리스트를 얻는다."
   ]
  },
  {
   "cell_type": "code",
   "execution_count": 44,
   "metadata": {},
   "outputs": [],
   "source": [
    "def merge(left, right):\n",
    "    sorted = list()\n",
    "    left_point, right_point = 0, 0\n",
    "    \n",
    "    while len(left) > left_point and len(right) > right_point:\n",
    "        if left[left_point] > right[right_point]:\n",
    "            sorted.append(right[right_point])\n",
    "            right_point += 1\n",
    "        else:\n",
    "            sorted.append(left[left_point])\n",
    "            left_point += 1\n",
    "    \n",
    "    while len(left) > left_point:\n",
    "        sorted.append(left[left_point])\n",
    "        left_point += 1\n",
    "    \n",
    "    while len(right) > right_point:\n",
    "        sorted.append(right[right_point])\n",
    "        right_point += 1\n",
    "    \n",
    "    return sorted\n",
    "\n",
    "def split(data):\n",
    "    if len(data) <= 1:\n",
    "        return data\n",
    "    medium = len(data)//2\n",
    "    left = split(data[:medium])\n",
    "    right = split(data[medium:])\n",
    "    \n",
    "    return merge(left, right)"
   ]
  },
  {
   "cell_type": "code",
   "execution_count": 45,
   "metadata": {},
   "outputs": [
    {
     "data": {
      "text/plain": [
       "[4, 15, 16, 24, 46, 61, 68, 72, 98, 99]"
      ]
     },
     "execution_count": 45,
     "metadata": {},
     "output_type": "execute_result"
    }
   ],
   "source": [
    "import random\n",
    "data_list = random.sample(range(100), 10)\n",
    "split(data_list)"
   ]
  },
  {
   "cell_type": "markdown",
   "metadata": {},
   "source": [
    "### 7. 퀵 정렬(Quick sort)\n",
    "\n",
    "> - 기준점(pivot)을 정하여, 기준점보다 작은 데이터는 왼쪽, 큰 데이터는 오른쪽으로 모으는 함수를 통해 정렬\n",
    "- 각 왼쪽/오른쪽에 대해 재귀 용법을 통해 함수를 호출하여 작업 반복\n",
    "- 함수는 왼쪽 + pivot + 오른쪽 을 List 형태로 return"
   ]
  },
  {
   "cell_type": "code",
   "execution_count": 62,
   "metadata": {},
   "outputs": [],
   "source": [
    "def qsort(data):\n",
    "    if len(data) <= 1:\n",
    "        return data\n",
    "    left,right = list(), list()\n",
    "    pivot = data[0]\n",
    "    \n",
    "    for index in range(1, len(data)):\n",
    "        if pivot > data[index]:\n",
    "            left.append(data[index])\n",
    "        else:\n",
    "            right.append(data[index])\n",
    "    return qsort(left) + [pivot] + qsort(right)"
   ]
  },
  {
   "cell_type": "code",
   "execution_count": 63,
   "metadata": {},
   "outputs": [
    {
     "data": {
      "text/plain": [
       "[5, 19, 27, 53, 57, 59, 76, 83, 87, 89]"
      ]
     },
     "execution_count": 63,
     "metadata": {},
     "output_type": "execute_result"
    }
   ],
   "source": [
    "import random\n",
    "data = random.sample(range(100), 10)\n",
    "qsort(data)"
   ]
  },
  {
   "cell_type": "markdown",
   "metadata": {},
   "source": [
    "### 8. 순차 탐색(Sequential search)\n",
    "\n",
    "> 데이터가 담긴 리스트를 앞에서부터 순차적으로 비교하여 데이터를 찾는 알고리즘"
   ]
  },
  {
   "cell_type": "code",
   "execution_count": 64,
   "metadata": {},
   "outputs": [],
   "source": [
    "def sequential_search(data, searched_num):\n",
    "    for index in range(len(data)):\n",
    "        if data[index] == searched_num:\n",
    "            return index\n",
    "    return -1"
   ]
  },
  {
   "cell_type": "code",
   "execution_count": 65,
   "metadata": {},
   "outputs": [
    {
     "data": {
      "text/plain": [
       "[29, 14, 94, 78, 74, 16, 48, 56, 38, 42]"
      ]
     },
     "execution_count": 65,
     "metadata": {},
     "output_type": "execute_result"
    }
   ],
   "source": [
    "import random\n",
    "data_list = random.sample(range(100), 10)\n",
    "data_list"
   ]
  },
  {
   "cell_type": "code",
   "execution_count": 66,
   "metadata": {},
   "outputs": [
    {
     "data": {
      "text/plain": [
       "1"
      ]
     },
     "execution_count": 66,
     "metadata": {},
     "output_type": "execute_result"
    }
   ],
   "source": [
    "sequential_search(data_list, 14)"
   ]
  },
  {
   "cell_type": "code",
   "execution_count": 67,
   "metadata": {},
   "outputs": [
    {
     "data": {
      "text/plain": [
       "-1"
      ]
     },
     "execution_count": 67,
     "metadata": {},
     "output_type": "execute_result"
    }
   ],
   "source": [
    "sequential_search(data_list, 88)"
   ]
  },
  {
   "cell_type": "markdown",
   "metadata": {},
   "source": [
    "### 9. 이진 탐색(Binary search)\n",
    "\n",
    "> - 탐색할 자료를 둘로 나누어 해당 데이터가 있을만한 곳을 탐색하는 방법\n",
    "- 분할 정복 알고리즘으로 동작\n",
    "    - Devide(분할) : list를 2개의 sub-list로 나누기\n",
    "    - Conquer(정복) : 검색할 숫자가 중간값보다 큰 경우, 뒷 부분의 sub list에서 다시 검색/ 작은 경우, 앞 부분의 sub list에서 다시 검색\n"
   ]
  },
  {
   "cell_type": "code",
   "execution_count": 69,
   "metadata": {},
   "outputs": [],
   "source": [
    "def binary_search(data, search):\n",
    "    print(data)\n",
    "    if len(data) == 1 and search == data[0]:\n",
    "        return True\n",
    "    if len(data) == 1 and search != data[0]:\n",
    "        return False\n",
    "    if len(data) == 0:\n",
    "        return False\n",
    "    \n",
    "    medium = len(data)//2\n",
    "    if search == data[medium]:\n",
    "        return True\n",
    "    else:\n",
    "        if search > data[medium]:\n",
    "            return binary_search(data[medium+1:], search)\n",
    "        else:\n",
    "            return binary_search(data[:medium], search)"
   ]
  },
  {
   "cell_type": "code",
   "execution_count": 70,
   "metadata": {},
   "outputs": [
    {
     "data": {
      "text/plain": [
       "[27, 37, 42, 44, 50, 52, 68, 78, 84, 93]"
      ]
     },
     "execution_count": 70,
     "metadata": {},
     "output_type": "execute_result"
    }
   ],
   "source": [
    "import random\n",
    "data = random.sample(range(100), 10)\n",
    "data.sort()\n",
    "data"
   ]
  },
  {
   "cell_type": "code",
   "execution_count": 71,
   "metadata": {},
   "outputs": [
    {
     "name": "stdout",
     "output_type": "stream",
     "text": [
      "[27, 37, 42, 44, 50, 52, 68, 78, 84, 93]\n",
      "[27, 37, 42, 44, 50]\n",
      "[44, 50]\n"
     ]
    },
    {
     "data": {
      "text/plain": [
       "True"
      ]
     },
     "execution_count": 71,
     "metadata": {},
     "output_type": "execute_result"
    }
   ],
   "source": [
    "binary_search(data, 50)"
   ]
  },
  {
   "cell_type": "markdown",
   "metadata": {},
   "source": [
    "### "
   ]
  }
 ],
 "metadata": {
  "kernelspec": {
   "display_name": "Python 3",
   "language": "python",
   "name": "python3"
  },
  "language_info": {
   "codemirror_mode": {
    "name": "ipython",
    "version": 3
   },
   "file_extension": ".py",
   "mimetype": "text/x-python",
   "name": "python",
   "nbconvert_exporter": "python",
   "pygments_lexer": "ipython3",
   "version": "3.7.4"
  }
 },
 "nbformat": 4,
 "nbformat_minor": 2
}
