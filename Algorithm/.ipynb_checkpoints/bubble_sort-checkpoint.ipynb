{
 "cells": [
  {
   "cell_type": "markdown",
   "metadata": {},
   "source": [
    "### 버블정렬이란?\n",
    "\n",
    "- 버블정렬이란 두 인접한 데이터를 비교하여, 앞의 데이터가 뒤의 데이터보다 크다면 두 데이터를 Swap하는 정렬 알고리즘이다."
   ]
  },
  {
   "cell_type": "markdown",
   "metadata": {},
   "source": [
    "#### 버블정렬의 동작 과정\n",
    "\n",
    "1. len(data) -1 만큼 반복\n",
    "2. swap = False로 선언. swap 여부를 확인하기 위한 변수이다.\n",
    "3. len(data) - index - 1 만큼 반복\n",
    "4. 반복문 안에서 data[index2] > data[index2 + 1]인 경우, Swap\n",
    "5. swap하며 swap 변수를 False에서 True로 전환\n",
    "6. 첫번째 반복문을 돌았을 때, swap이 그대로 False인 경우, 이미 정렬된 경우이므로 break\n",
    "7. 첫번째 반복문이 끝나면 버블 정렬 완료"
   ]
  },
  {
   "cell_type": "code",
   "execution_count": 10,
   "metadata": {},
   "outputs": [],
   "source": [
    "def BubbleSort(data):\n",
    "    for index in range(len(data) -1):\n",
    "        swap= False\n",
    "        for index2 in range(len(data) -index -1):\n",
    "            if data[index2] > data[index2 + 1]:\n",
    "                data[index2], data[index2+1] = data[index2+1], data[index2]\n",
    "                swap = True\n",
    "        if swap == False:\n",
    "            break\n",
    "    \n",
    "    return data"
   ]
  },
  {
   "cell_type": "markdown",
   "metadata": {},
   "source": [
    "#### 구현한 버블 정렬 알고리즘을 Random 라이브러리를 활용해 정렬 여부 체크하기"
   ]
  },
  {
   "cell_type": "code",
   "execution_count": 11,
   "metadata": {},
   "outputs": [
    {
     "name": "stdout",
     "output_type": "stream",
     "text": [
      "[1, 2, 4, 5, 7, 8, 9, 14, 18, 19, 20, 22, 23, 24, 25, 28, 31, 33, 34, 35, 36, 37, 41, 42, 45, 46, 47, 49, 51, 55, 60, 61, 62, 63, 64, 65, 67, 68, 70, 73, 74, 82, 86, 89, 90, 91, 93, 94, 96, 99]\n"
     ]
    }
   ],
   "source": [
    "import random\n",
    "\n",
    "data_list = random.sample(range(100), 50)\n",
    "#print(data_list)\n",
    "print (BubbleSort(data_list))"
   ]
  },
  {
   "cell_type": "markdown",
   "metadata": {},
   "source": [
    "#### 버블정렬 알고리즘의 시간 복잡도\n",
    "\n",
    "* 기본적으로 2개의 중첩된 반복문이 동작하므로, O(n^2)\n",
    "* 완전 정렬이 되어 있는 경우에는 반복문을 1번만 동작하므로, O(n)"
   ]
  }
 ],
 "metadata": {
  "kernelspec": {
   "display_name": "Python 3",
   "language": "python",
   "name": "python3"
  },
  "language_info": {
   "codemirror_mode": {
    "name": "ipython",
    "version": 3
   },
   "file_extension": ".py",
   "mimetype": "text/x-python",
   "name": "python",
   "nbconvert_exporter": "python",
   "pygments_lexer": "ipython3",
   "version": "3.7.4"
  }
 },
 "nbformat": 4,
 "nbformat_minor": 2
}
