{
 "cells": [
  {
   "cell_type": "markdown",
   "metadata": {},
   "source": [
    "## 재귀용법 (Recursive call, 재귀 호출)\n",
    "> 함수 안에서 동일한 함수를 호출하는 형태를 말한다."
   ]
  },
  {
   "cell_type": "markdown",
   "metadata": {},
   "source": [
    "#### 재귀 호출의 일반적인 형태"
   ]
  },
  {
   "cell_type": "code",
   "execution_count": null,
   "metadata": {},
   "outputs": [],
   "source": [
    "#형태 1\n",
    "def function(입력값):\n",
    "    if 입력값 > 일정값:\n",
    "        return functino(입력값 - 1)\n",
    "    else:\n",
    "        return 일정값 or 입력값 or 특정값 #재귀 종료"
   ]
  },
  {
   "cell_type": "code",
   "execution_count": null,
   "metadata": {},
   "outputs": [],
   "source": [
    "#형태 2\n",
    "def fucntion(입력값):\n",
    "    if 입력값 <= 일정값:\n",
    "        return 일정값 or 입력값 or 특정값\n",
    "    \n",
    "    return function(입력값보다 작은 값)"
   ]
  },
  {
   "cell_type": "code",
   "execution_count": null,
   "metadata": {},
   "outputs": [],
   "source": [
    "#형태 1로 구현한 팩토리얼\n",
    "def factorial(num):\n",
    "    if num > 1:\n",
    "        return num * factorial(num-1)\n",
    "    else:\n",
    "        return num\n",
    "    \n",
    "for num in range(10):\n",
    "    print(factorial(num))"
   ]
  },
  {
   "cell_type": "code",
   "execution_count": null,
   "metadata": {},
   "outputs": [],
   "source": [
    "#형태 2로 구현한 팩토리얼\n",
    "def factorial(num):\n",
    "    if num <= 1:\n",
    "        return num\n",
    "    return num * factorial(num-1)\n",
    "\n",
    "for num in range(10):\n",
    "    print(factorial(num))"
   ]
  },
  {
   "cell_type": "code",
   "execution_count": null,
   "metadata": {},
   "outputs": [],
   "source": [
    "def multiple(num):\n",
    "    value = 1\n",
    "    for index in range(1, num+1):\n",
    "        value = value * index\n",
    "    return value\n",
    "\n",
    "print(multiple(2))"
   ]
  },
  {
   "cell_type": "code",
   "execution_count": null,
   "metadata": {},
   "outputs": [],
   "source": [
    "def multiple(num):\n",
    "    if num <= 1:\n",
    "        return num\n",
    "    return num * multiple(num - 1)\n",
    "\n",
    "print(multiple(10))"
   ]
  },
  {
   "cell_type": "markdown",
   "metadata": {},
   "source": [
    "#### 재귀함수를 활용해 List의 합을 더하는 함수 구현"
   ]
  },
  {
   "cell_type": "code",
   "execution_count": 28,
   "metadata": {},
   "outputs": [
    {
     "name": "stdout",
     "output_type": "stream",
     "text": [
      "450\n"
     ]
    }
   ],
   "source": [
    "import random \n",
    "data = random.sample(range(100), 10)\n",
    "\n",
    "def sum_list(data):\n",
    "    if len(data) <= 1:\n",
    "        return data[0]\n",
    "    return data[0] + sum_list(data[1:])\n",
    "#리스트의 슬라이스 기능을 활용하여 리스트의 길이를 줄여가며 재귀 조건을 충족시킨다\n",
    "\n",
    "print(sum_list(data))"
   ]
  },
  {
   "cell_type": "markdown",
   "metadata": {},
   "source": [
    "#### 회문(앞으로 읽어도, 뒤로 읽어도 같은 문장) 여부를 판별하는 함수 구현하기"
   ]
  },
  {
   "cell_type": "code",
   "execution_count": 29,
   "metadata": {},
   "outputs": [
    {
     "data": {
      "text/plain": [
       "True"
      ]
     },
     "execution_count": 29,
     "metadata": {},
     "output_type": "execute_result"
    }
   ],
   "source": [
    "def palindrome(string):\n",
    "    if len(string) <= 1:\n",
    "        return True\n",
    "    \n",
    "    if string[0] == string[-1]:\n",
    "        return palindrome(string[1:-1])\n",
    "    else:\n",
    "        return False\n",
    "    \n",
    "string = 'level'\n",
    "palindrome(string)"
   ]
  },
  {
   "cell_type": "markdown",
   "metadata": {},
   "source": [
    "#### 재귀함수를 활용해 함수구현하기\n",
    "- 정수 n에 대해 n이 짝수이면 나누기 2, 홀수이면 3을 곱한후 1을 더한다.\n",
    "- 이 과정을 n이 1이 될 때까지 반복\n",
    "- 진행하는 과정 출력하기"
   ]
  },
  {
   "cell_type": "code",
   "execution_count": 30,
   "metadata": {},
   "outputs": [
    {
     "name": "stdout",
     "output_type": "stream",
     "text": [
      "3\n",
      "10\n",
      "5\n",
      "16\n",
      "8\n",
      "4\n",
      "2\n",
      "1\n"
     ]
    },
    {
     "data": {
      "text/plain": [
       "1"
      ]
     },
     "execution_count": 30,
     "metadata": {},
     "output_type": "execute_result"
    }
   ],
   "source": [
    "def func(n):\n",
    "    print(n)\n",
    "    if n <= 1:\n",
    "        return n\n",
    "    if n%2 == 0:\n",
    "        return func(int(n/2))\n",
    "    else:\n",
    "        return func(3*n+1)\n",
    "    \n",
    "func(3)"
   ]
  },
  {
   "cell_type": "code",
   "execution_count": 27,
   "metadata": {},
   "outputs": [
    {
     "data": {
      "text/plain": [
       "13"
      ]
     },
     "execution_count": 27,
     "metadata": {},
     "output_type": "execute_result"
    }
   ],
   "source": [
    "def func(num):\n",
    "    if num == 1:\n",
    "        return 1\n",
    "    elif num == 2:\n",
    "        return 2\n",
    "    elif num == 3:\n",
    "        return 4\n",
    "    \n",
    "    return func(num-1) + func(num-2) + func(num-3)\n",
    "\n",
    "\n",
    "func(5)"
   ]
  }
 ],
 "metadata": {
  "kernelspec": {
   "display_name": "Python 3",
   "language": "python",
   "name": "python3"
  },
  "language_info": {
   "codemirror_mode": {
    "name": "ipython",
    "version": 3
   },
   "file_extension": ".py",
   "mimetype": "text/x-python",
   "name": "python",
   "nbconvert_exporter": "python",
   "pygments_lexer": "ipython3",
   "version": "3.7.4"
  }
 },
 "nbformat": 4,
 "nbformat_minor": 2
}
