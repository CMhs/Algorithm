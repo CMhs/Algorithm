{
 "cells": [
  {
   "cell_type": "markdown",
   "metadata": {},
   "source": [
    "### 선택 정렬(Selection Sort)\n",
    "\n",
    "#### 선택정렬의 동작 과정\n",
    "\n",
    "1. 주어진 데이터 중, 최솟값을 찾음\n",
    "2. 찾은 최솟값을 맨 앞의 데이터와 swap\n",
    "3. 맨 앞의 데이터를 제외하고 나머지 데이터를 동일한 방법으로 swap 반복\n",
    "\n",
    "<img src=\"https://upload.wikimedia.org/wikipedia/commons/9/94/Selection-Sort-Animation.gif\" width=100>\n",
    "\n",
    "출처: https://en.wikipedia.org/wiki/Selection_sort"
   ]
  },
  {
   "cell_type": "markdown",
   "metadata": {},
   "source": [
    "#### 선택정렬 알고리즘\n",
    "\n",
    "1. for stand in range(len(data) - 1) 반복문\n",
    "2. lowest = stand로 선언\n",
    "3. for index in range(stand + 1, len(data)) 로 stand 다음 부터 반복\n",
    "4. 내부 반복문에서 data[lowest] > data[index] 인 경우, lowest = data 실행\n",
    "5. 내부 반복문이 끝나면, lowest에는 stand 다음의 데이터들 중에서 최솟값이 담긴 index가 저장\n",
    "6. data[stand] 와 data[lowest]를 스왑\n",
    "7. 위 과정을 반복"
   ]
  },
  {
   "cell_type": "code",
   "execution_count": 1,
   "metadata": {},
   "outputs": [],
   "source": [
    "def Selection_Sort(data):\n",
    "    for stand in range(len(data)-1):\n",
    "        lowest = stand\n",
    "        for index in range(stand + 1, len(data)):\n",
    "            if data[lowest] > data[index]:\n",
    "                lowest = index\n",
    "        data[stand], data[lowest] = data[lowest], data[stand]\n",
    "    return data"
   ]
  },
  {
   "cell_type": "markdown",
   "metadata": {},
   "source": [
    "#### Random 라이브러리를 활용하여 정렬 알고리즘 테스트"
   ]
  },
  {
   "cell_type": "code",
   "execution_count": 4,
   "metadata": {
    "scrolled": true
   },
   "outputs": [
    {
     "data": {
      "text/plain": [
       "[1,\n",
       " 2,\n",
       " 7,\n",
       " 8,\n",
       " 10,\n",
       " 11,\n",
       " 17,\n",
       " 18,\n",
       " 22,\n",
       " 23,\n",
       " 27,\n",
       " 36,\n",
       " 37,\n",
       " 39,\n",
       " 43,\n",
       " 51,\n",
       " 54,\n",
       " 55,\n",
       " 58,\n",
       " 63,\n",
       " 65,\n",
       " 66,\n",
       " 67,\n",
       " 68,\n",
       " 72,\n",
       " 73,\n",
       " 79,\n",
       " 85,\n",
       " 92,\n",
       " 99]"
      ]
     },
     "execution_count": 4,
     "metadata": {},
     "output_type": "execute_result"
    }
   ],
   "source": [
    "import random\n",
    "\n",
    "data_list = random.sample(range(100), 30)\n",
    "Selection_Sort(data_list)"
   ]
  },
  {
   "cell_type": "markdown",
   "metadata": {},
   "source": [
    "#### 선택 정렬 알고리즘의 시간 복잡도\n",
    "\n",
    "- 중첩된 반복문이 2개이므로 O(n^2)"
   ]
  }
 ],
 "metadata": {
  "kernelspec": {
   "display_name": "Python 3",
   "language": "python",
   "name": "python3"
  },
  "language_info": {
   "codemirror_mode": {
    "name": "ipython",
    "version": 3
   },
   "file_extension": ".py",
   "mimetype": "text/x-python",
   "name": "python",
   "nbconvert_exporter": "python",
   "pygments_lexer": "ipython3",
   "version": "3.7.4"
  }
 },
 "nbformat": 4,
 "nbformat_minor": 2
}
