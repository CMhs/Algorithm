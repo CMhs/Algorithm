{
 "cells": [
  {
   "cell_type": "markdown",
   "metadata": {},
   "source": [
    "### 힙\n",
    "- 힙이란 데이터에서 최솟/최댓값을 빠르게 찾기 위해 고안된 이진 트리\n",
    "- 완전 이진 트리 구조를 가짐"
   ]
  },
  {
   "cell_type": "markdown",
   "metadata": {},
   "source": [
    "#### 힙과 배열\n",
    "- 힙 구현시 배열 자료구조를 사용\n",
    "- 배열의 index는 0부터 시작하지만, 힙 구현의 편의를 위해 root 노드의 index 번호를 1로 설정\n",
    "\n",
    "- 부모 노드의 인덱스 번호 = 자식 노드 인덱스 번호 // 2 (2로 나눈 몫)\n",
    "- 왼쪽 자식 노드의 인덱스 번호 = 부모 노드 인덱스 번호 * 2\n",
    "- 오른쪽 자식 노드의 인덱스 번호 = 부모 노드 인덱스 번호 * 2 + 1"
   ]
  },
  {
   "cell_type": "code",
   "execution_count": 1,
   "metadata": {},
   "outputs": [],
   "source": [
    "class Heap:\n",
    "    def __init__(self, data):\n",
    "        self.heap_array = list()\n",
    "        self.heap_array.append(None)\n",
    "        self.heap_array.append(data)\n",
    "    \n",
    "    def move_up(self, inserted_idx):\n",
    "        if inserted_idx <= 1:\n",
    "            return False\n",
    "\n",
    "        parent_idx = inserted_idx // 2\n",
    "        if self.heap_array[inserted_idx] > self.heap_array[parent_idx]:\n",
    "            return True\n",
    "        else:\n",
    "            return False\n",
    "        \n",
    "    def insert(self,data):\n",
    "        if len(self.heap_array) == 0:\n",
    "            self.heap_array.append(None)\n",
    "            self.heap_array.append(data)\n",
    "        \n",
    "        self.heap_array.append(data)\n",
    "        #배열 자료구조에 Add하면 완전 이진 트리의 규칙을 위배하지 않으면서 heap에 Data를 추가할 수 있음\n",
    "        \n",
    "        inserted_idx = len(self.heap_array) - 1\n",
    "        #Heap 구현의 편의성을 위해 index를 1부터 사용했으므로 -1 해준다.\n",
    "        \n",
    "        while self.move_up(inserted_idx):\n",
    "            parent_idx = inserted_idx // 2\n",
    "            self.heap_array[inserted_idx], self.heap_array[parent_idx] = self.heap_array[parent_idx], self.heap_array[inserted_idx]\n",
    "            #inserted_idx와 parent_idx에 위치한 배열 값을 Swap해준다.\n",
    "            \n",
    "            inserted_idx = parent_idx\n",
    "            #move_up으로 검사했을 때 False가 나올때 까지 Parent로 올라가며 검사 진행\n",
    "        \n",
    "        return True"
   ]
  },
  {
   "cell_type": "code",
   "execution_count": 2,
   "metadata": {},
   "outputs": [
    {
     "data": {
      "text/plain": [
       "[None, 20, 10, 15, 5, 4, 8]"
      ]
     },
     "execution_count": 2,
     "metadata": {},
     "output_type": "execute_result"
    }
   ],
   "source": [
    "heap = Heap(15)\n",
    "heap.insert(10)\n",
    "heap.insert(8)\n",
    "heap.insert(5)\n",
    "heap.insert(4)\n",
    "heap.insert(20)\n",
    "heap.heap_array"
   ]
  }
 ],
 "metadata": {
  "kernelspec": {
   "display_name": "Python 3",
   "language": "python",
   "name": "python3"
  },
  "language_info": {
   "codemirror_mode": {
    "name": "ipython",
    "version": 3
   },
   "file_extension": ".py",
   "mimetype": "text/x-python",
   "name": "python",
   "nbconvert_exporter": "python",
   "pygments_lexer": "ipython3",
   "version": "3.7.4"
  }
 },
 "nbformat": 4,
 "nbformat_minor": 2
}
