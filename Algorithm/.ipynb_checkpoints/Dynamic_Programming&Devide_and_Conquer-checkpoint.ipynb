{
 "cells": [
  {
   "cell_type": "markdown",
   "metadata": {},
   "source": [
    "## 동적 계획법(Dynamic Programming)과 분할 정복(Devide and Conquer)"
   ]
  },
  {
   "cell_type": "markdown",
   "metadata": {},
   "source": [
    "## 1. 정의\n",
    "- 동적 계획법(DP)\n",
    "    - 입력 크기가 작은 부분을 먼저 해결한 후, 해결한 부분의 해답을 활용하여, 더 큰 부분의 문제를 해결하는 방식을 통해 전체 문제를 해결하는 알고리즘\n",
    "    - 상향식 접근법 -> 최하위 해답을 구한 후, 이를 저장, 해당 값을 이용하여 상위 문제를 해결하는 방식\n",
    "    - Memoization 기법을 사용한다.\n",
    "        - Memoization이란, 프로그램 실행 시, 이전에 계산한 값을 저장하여, 다시 계산하지 않도록 함으로써 전체적인 실행 속도를 향상시키는 기법\n",
    "    - 문제를 잘게 쪼갤 때, 부분 문제는 중복되어, 재활용 됨\n",
    "        - 피보나치 수열 계산 등에 활용 가능\n",
    "    \n",
    "- 분할 정복\n",
    "    - 문제를 나눌 수 없을 때까지 잘게 나눈 뒤, 각각 풀면서 다시 합병하여 전체 문제의 해답을 구하는 알고리즘\n",
    "    - 하향식 접근법 -> 상위의 해답을 구하기 위해, 아래로 내려가며 하위의 해답을 구하는 방식\n",
    "        - 일반적으로 재귀 함수로 구현됨\n",
    "    - 문제를 잘게 쪼갤 때, 부분 문제는 서로 중복되지 않는다.\n",
    "        - Ex. 병합/퀵 정렬"
   ]
  },
  {
   "cell_type": "markdown",
   "metadata": {},
   "source": [
    "## 2. 공통점과 차이점\n",
    "\n",
    "- 공통점\n",
    "    - 문제를 잘게 쪼개어서, 가장 작은 단위로 분할한다는 점\n",
    "- 차이점\n",
    "    - 동적 계획법\n",
    "        - 부분 문제는 중복 되어, 상위 문제 해결 시에 활용됨\n",
    "        - Memoization 기법 사용\n",
    "    - 분할 정복\n",
    "        - 부분 문제는 서로 중복되지 않음\n",
    "        - Memoization 기법 사용 X"
   ]
  },
  {
   "cell_type": "markdown",
   "metadata": {},
   "source": [
    "### 3-1. Recursive call을 활용한 피보나치 수 계산 함수"
   ]
  },
  {
   "cell_type": "code",
   "execution_count": 1,
   "metadata": {},
   "outputs": [
    {
     "data": {
      "text/plain": [
       "3"
      ]
     },
     "execution_count": 1,
     "metadata": {},
     "output_type": "execute_result"
    }
   ],
   "source": [
    "def fibo(num):\n",
    "    if num <= 1:\n",
    "        return num\n",
    "    return fibo(num -1) + fibo(num - 2)\n",
    "\n",
    "fibo(4)"
   ]
  },
  {
   "cell_type": "markdown",
   "metadata": {},
   "source": [
    "### 3-2. 동적 계획법 활용"
   ]
  },
  {
   "cell_type": "code",
   "execution_count": 2,
   "metadata": {},
   "outputs": [
    {
     "data": {
      "text/plain": [
       "55"
      ]
     },
     "execution_count": 2,
     "metadata": {},
     "output_type": "execute_result"
    }
   ],
   "source": [
    "def fibo_dp(num):\n",
    "    cache = [ 0 for index in range(num + 1)]\n",
    "    #cache 리스트의 n번째 칸에는 n의 피보나치 수가 저장될 것이다.\n",
    "    cache[0] = 0\n",
    "    cache[1] = 1\n",
    "    #0과 1의 경우 계산할 필요 없이 일관된 피보나치 값을 가지므로 각각 List에 삽입\n",
    "    \n",
    "    for index in range(2, num+1):\n",
    "        cache[index] = cache[index - 1] + cache[index - 2]\n",
    "        #반복문을 돌며 cache 리스트에 피보나치 수를 계산하여 삽입\n",
    "        #이전에 미리 저장해둔 값들을 활용하여 계산한다(Memoization)\n",
    "    return cache[num]\n",
    "\n",
    "fibo(10)"
   ]
  }
 ],
 "metadata": {
  "kernelspec": {
   "display_name": "Python 3",
   "language": "python",
   "name": "python3"
  },
  "language_info": {
   "codemirror_mode": {
    "name": "ipython",
    "version": 3
   },
   "file_extension": ".py",
   "mimetype": "text/x-python",
   "name": "python",
   "nbconvert_exporter": "python",
   "pygments_lexer": "ipython3",
   "version": "3.7.4"
  }
 },
 "nbformat": 4,
 "nbformat_minor": 2
}
