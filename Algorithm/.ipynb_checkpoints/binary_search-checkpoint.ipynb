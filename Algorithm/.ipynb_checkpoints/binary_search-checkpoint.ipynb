{
 "cells": [
  {
   "cell_type": "markdown",
   "metadata": {},
   "source": [
    "## 탐색 알고리즘2: 이진 탐색(Binary Search)\n",
    "\n",
    "### 1. 이진 탐색이란\n",
    "- 탐색할 자료를 둘로 나누어 해당 데이터가 있을만한 곳을 탐색하는 방법\n",
    "\n",
    "### 2. 분할 정복 알고리즘(Devide and Conquer)과 이진 탐색\n",
    "\n",
    "- 이진 탐색 알고리즘은 분할 정복 알고리즘을 토대로 동작한다고 볼 수 있다.\n",
    "- Devide = list를 2개의 sub-list로 나눈다\n",
    "- Conquer\n",
    "    - 검색할 숫자 > 중간값인 경우, 뒷 부분의 sub list에서 다시 검색\n",
    "    - 검색할 숫자 < 중간값 인경우, 앞 부분의 sub list에서 다시 검색"
   ]
  },
  {
   "cell_type": "code",
   "execution_count": 1,
   "metadata": {},
   "outputs": [],
   "source": [
    "def binary_search(data, search):\n",
    "    print(data)\n",
    "    if len(data) == 1 and search == data[0]:\n",
    "        return True\n",
    "    if len(data) == 1 and search != data[0]:\n",
    "        return False\n",
    "    if len(data) == 0:\n",
    "        return False\n",
    "    \n",
    "    medium = len(data) // 2\n",
    "    if search == data[medium]:\n",
    "        return True\n",
    "    else:\n",
    "        if search > data[medium]:\n",
    "            return binary_search(data[medium+1:], search)\n",
    "        else:\n",
    "            return binary_search(data[:medium], search)"
   ]
  },
  {
   "cell_type": "code",
   "execution_count": 2,
   "metadata": {},
   "outputs": [
    {
     "data": {
      "text/plain": [
       "[4, 5, 23, 30, 40, 43, 54, 63, 64, 93]"
      ]
     },
     "execution_count": 2,
     "metadata": {},
     "output_type": "execute_result"
    }
   ],
   "source": [
    "import random\n",
    "data = random.sample(range(100), 10)\n",
    "data.sort()\n",
    "data"
   ]
  },
  {
   "cell_type": "code",
   "execution_count": 3,
   "metadata": {},
   "outputs": [
    {
     "name": "stdout",
     "output_type": "stream",
     "text": [
      "[4, 5, 23, 30, 40, 43, 54, 63, 64, 93]\n",
      "[4, 5, 23, 30, 40]\n",
      "[30, 40]\n",
      "[30]\n"
     ]
    },
    {
     "data": {
      "text/plain": [
       "True"
      ]
     },
     "execution_count": 3,
     "metadata": {},
     "output_type": "execute_result"
    }
   ],
   "source": [
    "binary_search(data, 30)"
   ]
  },
  {
   "cell_type": "markdown",
   "metadata": {},
   "source": [
    "### 3. 이진 탐색 알고리즘 분석\n",
    "\n",
    "* n개의 리스트를 매번 2로 나누어 1이 될때 까지의 비교연산을 k회 진행\n",
    " - <font size=4em>n X $\\frac { 1 }{ 2 }$ X $\\frac { 1 }{ 2 }$ X $\\frac { 1 }{ 2 }$ ... = 1</font>\n",
    "  - <font size=4em>n X $\\frac { 1 }{ 2 }^k$ = 1</font>\n",
    "  - <font size=4em>n = $2^k$ = $log_2 n$ = $log_2 2^k$</font>\n",
    "  - <font size=4em>$log_2 n$ = k</font>\n",
    "* 결국 $O(log2n+1)$이고, 2와 1은 상수이므로 제거하면, $O(logn)$"
   ]
  },
  {
   "cell_type": "markdown",
   "metadata": {},
   "source": [
    "#### 10000개의 데이터를 삽입/퀵 정렬로 정렬하는 함수 만들기 + 시간 측정하기"
   ]
  },
  {
   "cell_type": "code",
   "execution_count": 25,
   "metadata": {},
   "outputs": [
    {
     "name": "stdout",
     "output_type": "stream",
     "text": [
      "0:00:00.039039\n",
      "0:00:10.841457\n"
     ]
    }
   ],
   "source": [
    "import datetime\n",
    "import random\n",
    "data_list = random.sample(range(10000),10000)\n",
    "\n",
    "def qsort(data):\n",
    "    if len(data) <= 1:\n",
    "        return data\n",
    "    \n",
    "    left,right = list(), list()\n",
    "    pivot = data[0]\n",
    "    \n",
    "    for index in range(1, len(data)):\n",
    "        if pivot > data[index]:\n",
    "            left.append(data[index])\n",
    "        else:\n",
    "            right.append(data[index])\n",
    "    return qsort(left) + [pivot] + qsort(right)\n",
    "\n",
    "\n",
    "def insertion_sort(data):\n",
    "    for stand in range(len(data)-1):\n",
    "        for index in range(stand +1, 0, -1):\n",
    "            if data[index] < data[index - 1]:\n",
    "                data[index], data[index -1] = data[index-1], data[index]\n",
    "            else:\n",
    "                break\n",
    "    return data\n",
    "\n",
    "now_time = datetime.datetime.now()\n",
    "qsort(data_list)\n",
    "end_time = datetime.datetime.now()\n",
    "print(end_time-now_time)\n",
    "\n",
    "now_time = datetime.datetime.now()\n",
    "insertion_sort(data_list)\n",
    "end_time = datetime.datetime.now()\n",
    "print(end_time - now_time)"
   ]
  }
 ],
 "metadata": {
  "kernelspec": {
   "display_name": "Python 3",
   "language": "python",
   "name": "python3"
  },
  "language_info": {
   "codemirror_mode": {
    "name": "ipython",
    "version": 3
   },
   "file_extension": ".py",
   "mimetype": "text/x-python",
   "name": "python",
   "nbconvert_exporter": "python",
   "pygments_lexer": "ipython3",
   "version": "3.7.4"
  }
 },
 "nbformat": 4,
 "nbformat_minor": 2
}
