{
 "cells": [
  {
   "cell_type": "markdown",
   "metadata": {},
   "source": [
    "## 병합 정렬(merge sort)\n",
    "\n",
    "### 1. 병합 정렬\n",
    "\n",
    "> 재귀용법을 적용한 정렬 알고리즘\n",
    "1. 리스트를 절반으로 잘라 두 부분으로 나눈다.\n",
    "2. 각 부분의 리스트를 재귀 용법을 통해 합병 정렬을 이용해 정렬한다.\n",
    "3. 정렬 된 두 리스트를 다시 하나의 정렬된 리스트로 합병한다.\n",
    "\n",
    "<img src=\"https://upload.wikimedia.org/wikipedia/commons/c/cc/Merge-sort-example-300px.gif\" width=500/>\n",
    "출처: (https://ko.wikipedia.org/wiki/%ED%95%A9%EB%B3%91_%EC%A0%95%EB%A0%AC)"
   ]
  },
  {
   "cell_type": "markdown",
   "metadata": {},
   "source": [
    "### 2. 병합정렬 동작 과정\n",
    "* 데이터가 4개일 때를 가정\n",
    "    - data = [3,8,1,2]\n",
    "    - 먼저 [3,8] , [1,2]로 split\n",
    "    - [3], [8]로 나눈 뒤, 정렬하여 [3, 8]로 다시 병합\n",
    "    - [1], [2]로 나눈 뒤, 정렬하여 [1,2]로 다시 병합\n",
    "    - [3,8] 과 [1,2]를 정렬하여 병합\n",
    "        - 3 > 1 이므로 [1]\n",
    "        - 3 > 2 이므로 [1,2]\n",
    "        - 비교할 오른쪽 list가 비었으므로 왼쪽 list를 그대로 이어 붙인다.\n",
    "            - 왼쪽 리스트는 이미 병합할 때 정렬되어 있기 때문이다.\n",
    "        - [1,2] 뒤에 [3,8]을 그대로 병합하여 [1,2,3,8] 정렬된 list 완성"
   ]
  },
  {
   "cell_type": "markdown",
   "metadata": {},
   "source": [
    "### 3. 알고리즘 구현하기\n",
    "\n",
    "우선 병합정렬 알고리즘을 구현하기 위해서, 함수를 2가지로 나누어서 구현한다.\n",
    "* 재귀용법을 활용해 list를 쪼개지지 않을 때까지 split하는 함수와\n",
    "* 쪼개진 list들을 정렬하고 병합하는 함수\n",
    "* split 함수 만들기\n",
    "    - 인자로 전달된 list의 길이가 1일 경우, 해당 값 return\n",
    "    - 그렇지 않을 경우, 리스트를 2개로 나누기\n",
    "    - 앞쪽 list를 left, 뒤쪽 리스트를 right로 선언\n",
    "    - merge(left, right)를 통해 병합하여 정렬\n",
    "* merge 함수 만들기\n",
    "    - 정렬된 list를 저장할 list 변수 만들기\n",
    "    - left_index , right_index = 0\n",
    "        - 왼쪽/오른쪽 list를 가르킬 인자 선언\n",
    "    - while left_index < len(left) or right_index < len(right):\n",
    "        - 만약 두 list 중 하나라도 순회가 끝났다면 남은 list를 그대로 이어 붙인다.\n",
    "    - if left[left_index] < right[right_index]:\n",
    "        - sorted_list.append(left[left_index])\n",
    "        - left_index++\n",
    "    - else:\n",
    "        - sorted.list.append(right[right_index])\n",
    "        - right_index++"
   ]
  },
  {
   "cell_type": "markdown",
   "metadata": {},
   "source": [
    "#### split  함수 구현하기"
   ]
  },
  {
   "cell_type": "code",
   "execution_count": 2,
   "metadata": {},
   "outputs": [],
   "source": [
    "def merge_split(data):\n",
    "    if len(data) <= 1:\n",
    "        return data\n",
    "    medium = int(len(data)/2)\n",
    "    left = merge_split(data[:medium])\n",
    "    right = merge_split(data[medium:])\n",
    "    #재귀 용법을 통해 더이상 나눌 수 없을 때까지 나눈 뒤에, 차례대로 merge 함\n",
    "    return merge(left, right)"
   ]
  },
  {
   "cell_type": "markdown",
   "metadata": {},
   "source": [
    "#### merge 함수 구현하기"
   ]
  },
  {
   "cell_type": "code",
   "execution_count": 3,
   "metadata": {},
   "outputs": [],
   "source": [
    "def merge(left, right):\n",
    "    sorted = list()\n",
    "    left_point, right_point = 0, 0\n",
    "    \n",
    "    #left/right 모두 존재할 때\n",
    "    while len(left) > left_point and len(right) > right_point:\n",
    "        if left[left_point] > right[right_point]:\n",
    "            sorted.append(right[right_point])\n",
    "            right_point += 1\n",
    "        else:\n",
    "            sorted. append(left[left_point])\n",
    "            left_point += 1\n",
    "    #right가 없는 경우, left에 존재하는 나머지 data들을 sorted 뒤에 추가\n",
    "    while len(left) > left_point:\n",
    "        sorted.append(left[left_point])\n",
    "        left_point += 1\n",
    "    \n",
    "    #left가 없는 경우, right에 존재하는 나머지 data들을 sorted 뒤에 추가\n",
    "    while len(right) > right_point:\n",
    "        sorted.append(right[right_point])\n",
    "        right_point += 1\n",
    "    \n",
    "    return sorted"
   ]
  },
  {
   "cell_type": "markdown",
   "metadata": {},
   "source": [
    "#### 최종 병합 정렬 코드"
   ]
  },
  {
   "cell_type": "code",
   "execution_count": 4,
   "metadata": {},
   "outputs": [],
   "source": [
    "def merge(left, right):\n",
    "    sorted = list()\n",
    "    left_point, right_point = 0, 0\n",
    "    \n",
    "    #left/right 모두 존재할 때\n",
    "    while len(left) > left_point and len(right) > right_point:\n",
    "        if left[left_point] > right[right_point]:\n",
    "            sorted.append(right[right_point])\n",
    "            right_point += 1\n",
    "        else:\n",
    "            sorted. append(left[left_point])\n",
    "            left_point += 1\n",
    "    #right가 없는 경우, left에 존재하는 나머지 data들을 sorted 뒤에 추가\n",
    "    while len(left) > left_point:\n",
    "        sorted.append(left[left_point])\n",
    "        left_point += 1\n",
    "    \n",
    "    #left가 없는 경우, right에 존재하는 나머지 data들을 sorted 뒤에 추가\n",
    "    while len(right) > right_point:\n",
    "        sorted.append(right[right_point])\n",
    "        right_point += 1\n",
    "    \n",
    "    return sorted\n",
    "\n",
    "def merge_split(data):\n",
    "    if len(data) <= 1:\n",
    "        return data\n",
    "    medium = int(len(data)/2)\n",
    "    left = merge_split(data[:medium])\n",
    "    right = merge_split(data[medium:])\n",
    "    #재귀 용법을 통해 더이상 나눌 수 없을 때까지 나눈 뒤에, 차례대로 merge 함\n",
    "    return merge(left, right)"
   ]
  },
  {
   "cell_type": "code",
   "execution_count": 5,
   "metadata": {},
   "outputs": [
    {
     "data": {
      "text/plain": [
       "[3, 12, 22, 30, 35, 46, 64, 71, 72, 80]"
      ]
     },
     "execution_count": 5,
     "metadata": {},
     "output_type": "execute_result"
    }
   ],
   "source": [
    "import random\n",
    "\n",
    "data = random.sample(range(100), 10)\n",
    "merge_split(data)"
   ]
  },
  {
   "cell_type": "markdown",
   "metadata": {},
   "source": [
    "#### 4. 알고리즘 분석\n",
    "\n",
    "<img src=\"https://www.fun-coding.org/00_Images/mergesortcomplexity.png\" />\n",
    "\n",
    "* 알고리즘 수행 과정에서 몇 단계까지 만들어지는지를 depth라 하고 i로 가정\n",
    "    - 각 단계에 있는 하나의 노드 안의 리스트 길이는 $n/2^n$이 된다.\n",
    "    - 각 단계에는 $2^i$개의 노드가 존재\n",
    "* 각 단계는 항상 $2^i * n/2^i = O(n)$ 의 시간 복잡도를 갖는다.\n",
    "* depth는 항상 $log2n$개 만들어짐. 이것의 시간복잡는 결국 $O(logn)$이 된다.\n",
    "* 따라서 알고리즘의 시간 복잡도는 $O(n) * O(logn) = O(nlogn)$이다."
   ]
  }
 ],
 "metadata": {
  "kernelspec": {
   "display_name": "Python 3",
   "language": "python",
   "name": "python3"
  },
  "language_info": {
   "codemirror_mode": {
    "name": "ipython",
    "version": 3
   },
   "file_extension": ".py",
   "mimetype": "text/x-python",
   "name": "python",
   "nbconvert_exporter": "python",
   "pygments_lexer": "ipython3",
   "version": "3.7.4"
  }
 },
 "nbformat": 4,
 "nbformat_minor": 2
}
