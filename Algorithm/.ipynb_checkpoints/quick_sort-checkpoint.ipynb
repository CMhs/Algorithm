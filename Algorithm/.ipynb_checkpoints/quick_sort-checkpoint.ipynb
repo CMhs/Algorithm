{
 "cells": [
  {
   "cell_type": "markdown",
   "metadata": {},
   "source": [
    "## 대표적인 정렬 : 퀵 정렬(quick sort)\n",
    "\n",
    "#### 1. 퀵정렬이란?\n",
    "* 기준점(Pivot)을 정해서, 기준점보다 작은 데이터는 왼쪽, 큰 데이터는 오른쪽으로 모으는 함수를 작성\n",
    "* 각 왼쪽, 오른쪽은 __재귀용법__을 통해 다시 동일 함수를 호출하여 위 작업 반복\n",
    "* 함수는 왼쪽(left) + 기준점(pivot) + 오른쪽(right)을 list 형태로 병합하여 리턴한다."
   ]
  },
  {
   "cell_type": "markdown",
   "metadata": {},
   "source": [
    "#### 2. 알고리즘 구현하기\n",
    "\n",
    "> 1. 인자로 전달된 list의 길이가 1이라면 해당 list를 리턴\n",
    "> 2. 길이가 1이 아니라면, 해당 list의 첫번째 인자(list[0])를 pivot으로 설정\n",
    "> 3. left, right를 저장할 list 변수를 선언\n",
    "> 4. pivot과 list의 2번째부터 마지막 인자까지의 data를 비교\n",
    "> 5. pivot보다 작으면 left.append\n",
    "> 6. pivot보다 크거나 같으면 right.append\n",
    "> 7. quicksort(left) + [pivot] + quicksort(right) 형태로 리턴하며 재귀 호출\n"
   ]
  },
  {
   "cell_type": "code",
   "execution_count": 1,
   "metadata": {},
   "outputs": [],
   "source": [
    "def qsort(data):\n",
    "    if len(data) <= 1:\n",
    "        return data\n",
    "    \n",
    "    left,right = list(), list()\n",
    "    pivot = data[0]\n",
    "    \n",
    "    for index in range(1, len(data)):\n",
    "        if pivot > data[index]:\n",
    "            left.append(data[index])\n",
    "        else:\n",
    "            right.append(data[index])\n",
    "    return qsort(left) + [pivot] + qsort(right)"
   ]
  },
  {
   "cell_type": "code",
   "execution_count": 2,
   "metadata": {},
   "outputs": [
    {
     "data": {
      "text/plain": [
       "[10, 13, 21, 27, 34, 52, 67, 74, 83, 88]"
      ]
     },
     "execution_count": 2,
     "metadata": {},
     "output_type": "execute_result"
    }
   ],
   "source": [
    "import random\n",
    "\n",
    "data = random.sample(range(100), 10)\n",
    "qsort(data)"
   ]
  },
  {
   "cell_type": "markdown",
   "metadata": {},
   "source": [
    "#### 파이썬 list comprehensino 사용하여 간결하게 구현하기"
   ]
  },
  {
   "cell_type": "code",
   "execution_count": 3,
   "metadata": {},
   "outputs": [],
   "source": [
    "def qsort(data):\n",
    "    if len(data) <= 1:\n",
    "        return data\n",
    "    \n",
    "    pivot = data[0]\n",
    "    \n",
    "    left = [item for item in data[1:] if pivot > item]\n",
    "    # data[1]부터 끝까지 검사하며 item이 if문에 만족하면(pivot보다 작으면) left에 추가\n",
    "    right = [item for item in data[1:] if pivot <= item]\n",
    "    # 마찬가지로 if문에 만족하면(pivot보다 크거나 같으면) right에 추가\n",
    "    \n",
    "    return qsort(left) + [pivot] + qsort(right)"
   ]
  },
  {
   "cell_type": "code",
   "execution_count": 4,
   "metadata": {},
   "outputs": [
    {
     "data": {
      "text/plain": [
       "[18, 19, 20, 22, 28, 43, 48, 50, 72, 91]"
      ]
     },
     "execution_count": 4,
     "metadata": {},
     "output_type": "execute_result"
    }
   ],
   "source": [
    "import random\n",
    "\n",
    "data = random.sample(range(100),10)\n",
    "qsort(data)"
   ]
  },
  {
   "cell_type": "markdown",
   "metadata": {},
   "source": [
    "#### 3. 알고리즘 분석\n",
    "* 퀵정렬의 시간복잡도는 병합정렬과 유사하며 O(n*log n)\n",
    "* 단 최악의 경우\n",
    "    * 맨 처음 pivot이 가장 크거나, 작은 경우 모든 데이터를 비교해야 하는 상황이 나옴\n",
    "    * 이 때의 시간 복잡도는 O($n^2$)\n",
    "    \n",
    "<img src=\"https://www.fun-coding.org/00_Images/quicksortworks.jpg\" />"
   ]
  }
 ],
 "metadata": {
  "kernelspec": {
   "display_name": "Python 3",
   "language": "python",
   "name": "python3"
  },
  "language_info": {
   "codemirror_mode": {
    "name": "ipython",
    "version": 3
   },
   "file_extension": ".py",
   "mimetype": "text/x-python",
   "name": "python",
   "nbconvert_exporter": "python",
   "pygments_lexer": "ipython3",
   "version": "3.7.4"
  }
 },
 "nbformat": 4,
 "nbformat_minor": 2
}
